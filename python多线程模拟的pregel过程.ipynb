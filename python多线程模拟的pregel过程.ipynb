{
 "cells": [
  {
   "cell_type": "markdown",
   "metadata": {
    "tags": []
   },
   "source": [
    "# _Pregel_"
   ]
  },
  {
   "cell_type": "markdown",
   "metadata": {
    "tags": []
   },
   "source": [
    "### pregel.py:"
   ]
  },
  {
   "cell_type": "markdown",
   "metadata": {},
   "source": [
    "调用库"
   ]
  },
  {
   "cell_type": "code",
   "execution_count": 1,
   "metadata": {},
   "outputs": [],
   "source": [
    "import collections\n",
    "import threading"
   ]
  },
  {
   "cell_type": "markdown",
   "metadata": {},
   "source": [
    "定义Vertex类"
   ]
  },
  {
   "cell_type": "code",
   "execution_count": 2,
   "metadata": {},
   "outputs": [],
   "source": [
    "class Vertex():\n",
    "    def __init__(self, id, value, neighbors):\n",
    "        self.id = id #顶点的唯一标识符\n",
    "        self.value = value #顶点的值\n",
    "        self.neighbors = neighbors #顶点的邻居列表\n",
    "        self.incoming_messages = [] #收到的消息列表\n",
    "        self.outgoing_messages = [] #发送的消息列表\n",
    "        self.is_active = True #顶点是否活跃\n",
    "        self.superstep = 0 #超级步长\n"
   ]
  },
  {
   "cell_type": "markdown",
   "metadata": {},
   "source": [
    "Pregel算法的实现"
   ]
  },
  {
   "cell_type": "code",
   "execution_count": 3,
   "metadata": {},
   "outputs": [],
   "source": [
    "class Pregel():\n",
    "    def __init__(self, vertices, num_workers): #初始化方法，传入顶点列表和工作线程数\n",
    "        self.vertices = vertices\n",
    "        self.num_workers = num_workers\n",
    "\n",
    "    def run(self):\n",
    "        self.partition = self.partition_vertices()\n",
    "        while self.check_active(): #while循环，当有活动顶点时执行以下操作：\n",
    "            self.superstep() #superstep：每个工作线程执行一次超级步长操作\n",
    "            self.spread_messages() #spread_messages：传播消息，更新顶点的超级步长和接收到的消息列表\n",
    "\n",
    "\n",
    "\n",
    "    def partition_vertices(self): #将顶点根据工作线程数进行分区，使用哈希函数将顶点映射到工作线程\n",
    "        partition = collections.defaultdict(list)\n",
    "        for vertex in self.vertices:\n",
    "            partition[self.worker(vertex)].append(vertex)\n",
    "        return partition\n",
    "\n",
    "    def worker(self, vertex): #根据顶点的哈希值确定工作线程\n",
    "        return hash(vertex) % self.num_workers\n",
    "\n",
    "    def superstep(self): #每个工作线程执行一次超级步长操作，更新顶点的状态\n",
    "        workers = []\n",
    "        for vertex_list in self.partition.values():\n",
    "            worker = Worker(vertex_list)\n",
    "            workers.append(worker)\n",
    "            worker.start()\n",
    "        for worker in workers:\n",
    "            worker.join()\n",
    "\n",
    "    def spread_messages(self): #传播消息，更新顶点的超级步长和接收到的消息列表\n",
    "        for vertex in self.vertices:\n",
    "            vertex.superstep += 1\n",
    "            vertex.incoming_messages = []\n",
    "        for vertex in self.vertices:\n",
    "            for (recv_vertex, msg) in vertex.outgoing_messages:\n",
    "                recv_vertex.incoming_messages.append((vertex, msg))\n",
    "\n",
    "    def check_active(self): #检查是否有活动顶点\n",
    "        return any([vertex.is_active for vertex in self.vertices])"
   ]
  },
  {
   "cell_type": "markdown",
   "metadata": {},
   "source": [
    "定义工作节点"
   ]
  },
  {
   "cell_type": "code",
   "execution_count": 4,
   "metadata": {},
   "outputs": [],
   "source": [
    "class Worker(threading.Thread):\n",
    "    def __init__(self, vertices): #初始化方法，传入顶点列表\n",
    "        threading.Thread.__init__(self)\n",
    "        self.vertices = vertices\n",
    "\n",
    "    def run(self): #线程运行方法，调用超级步长方法\n",
    "        self.superstep()\n",
    "\n",
    "    def superstep(self): #超级步长方法，遍历顶点列表，对活跃顶点进行更新\n",
    "        for vertex in self.vertices:\n",
    "            if vertex.is_active:\n",
    "                vertex.update()"
   ]
  },
  {
   "cell_type": "markdown",
   "metadata": {},
   "source": [
    "### pagerank.py:"
   ]
  },
  {
   "cell_type": "markdown",
   "metadata": {},
   "source": [
    "调用包："
   ]
  },
  {
   "cell_type": "code",
   "execution_count": 5,
   "metadata": {},
   "outputs": [],
   "source": [
    "##from pregel import Vertex, Pregel\n",
    "import time\n",
    "from numpy import mat, eye, zeros, ones, linalg\n",
    "import random"
   ]
  },
  {
   "cell_type": "markdown",
   "metadata": {},
   "source": [
    "定义工作线程数，顶点数"
   ]
  },
  {
   "cell_type": "code",
   "execution_count": 6,
   "metadata": {},
   "outputs": [],
   "source": [
    "num_workers = 10\n",
    "num_vertices = 10000"
   ]
  },
  {
   "cell_type": "markdown",
   "metadata": {},
   "source": [
    "定义pagerank的顶点"
   ]
  },
  {
   "cell_type": "code",
   "execution_count": 7,
   "metadata": {},
   "outputs": [],
   "source": [
    "class PageRankVertex(Vertex):\n",
    "    def update(self): #超步通讯\n",
    "        if self.superstep < 100:\n",
    "            self.value = 0.15 / num_vertices + 0.85 * sum([pagerank for (vertex, pagerank) in self.incoming_messages])\n",
    "            outgoing_pagerank = self.value / len(self.neighbors)\n",
    "            self.outgoing_messages = [(vertex, outgoing_pagerank) for vertex in self.neighbors]\n",
    "        else:\n",
    "            self.is_active = False"
   ]
  },
  {
   "cell_type": "code",
   "execution_count": 8,
   "metadata": {},
   "outputs": [],
   "source": [
    "def create_edges(vertices):\n",
    "    for vertex in vertices:\n",
    "        vertex.neighbors = random.sample(vertices, random.randint(1,5))  # 随机选择邻居节点"
   ]
  },
  {
   "cell_type": "code",
   "execution_count": 9,
   "metadata": {},
   "outputs": [],
   "source": [
    "def calc_pagerank(vertices): #直接计算pagerank的算法\n",
    "    I = mat(eye(num_vertices))  # 创建单位矩阵I\n",
    "    G = zeros((num_vertices, num_vertices))  # 创建邻接矩阵G\n",
    "    for vertex in vertices:\n",
    "        num_neighbor = len(vertex.neighbors)\n",
    "        for nv in vertex.neighbors:\n",
    "            G[nv.id, vertex.id] = 1.0 / num_neighbor  # 构建邻接矩阵\n",
    "    P = (1.0 / num_vertices) * mat(ones((num_vertices, 1)))  # 创建概率向量P\n",
    "    return 0.15 * ((I - 0.85 * G).I) * P  # 计算PageRank值"
   ]
  },
  {
   "cell_type": "code",
   "execution_count": 10,
   "metadata": {},
   "outputs": [],
   "source": [
    "def pregel_pagerank(vertices): #使用pregel计算pagerank的算法\n",
    "    p = Pregel(vertices, num_workers)  # 创建Pregel模型对象\n",
    "    p.run()  # 运行Pregel模型\n",
    "    return mat([vertex.value for vertex in p.vertices]).transpose()  # 获取每个顶点的PageRank值"
   ]
  },
  {
   "cell_type": "code",
   "execution_count": 11,
   "metadata": {},
   "outputs": [],
   "source": [
    "def main():\n",
    "    vertices = [PageRankVertex(j, 1.0 / num_vertices, []) for j in range(num_vertices)]  # 创建PageRankVertex对象列表\n",
    "    create_edges(vertices)  # 创建边\n",
    "    start = time.time()  # 记录开始时间\n",
    "    pr = calc_pagerank(vertices)  # 计算PageRank值\n",
    "    elapsed_time = time.time() - start  # 计算运行时间\n",
    "    print(\"elapsed %s sec for calc PageRank\" % elapsed_time)  # 输出计算PageRank所用的时间\n",
    "    start = time.time()\n",
    "    pr_pregel = pregel_pagerank(vertices)  # 使用Pregel模型计算PageRank值\n",
    "    elapsed_time = time.time() - start  # 计算运行时间\n",
    "    print(\"elapsed %s sec for Pregel PageRank\" % elapsed_time)  # 输出使用Pregel模型计算PageRank所用的时间\n",
    "    diff = pr_pregel-pr  # 计算两个PageRank向量之间的差异\n",
    "    print(\"The norm of the difference is: %s\" % linalg.norm(diff))  # 输出差异向量的范数"
   ]
  },
  {
   "cell_type": "code",
   "execution_count": 12,
   "metadata": {},
   "outputs": [
    {
     "name": "stdout",
     "output_type": "stream",
     "text": [
      "elapsed 9.747305154800415 sec for calc PageRank\n",
      "elapsed 3.1489317417144775 sec for Pregel PageRank\n",
      "The norm of the difference is: 2.320301222358135e-09\n"
     ]
    }
   ],
   "source": [
    "main() #执行"
   ]
  }
 ],
 "metadata": {
  "kernelspec": {
   "display_name": "Python 3 (ipykernel)",
   "language": "python",
   "name": "python3"
  },
  "language_info": {
   "codemirror_mode": {
    "name": "ipython",
    "version": 3
   },
   "file_extension": ".py",
   "mimetype": "text/x-python",
   "name": "python",
   "nbconvert_exporter": "python",
   "pygments_lexer": "ipython3",
   "version": "3.9.13"
  }
 },
 "nbformat": 4,
 "nbformat_minor": 4
}
